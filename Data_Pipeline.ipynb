{
  "nbformat": 4,
  "nbformat_minor": 0,
  "metadata": {
    "colab": {
      "provenance": [],
      "authorship_tag": "ABX9TyNEo/EHGo8WA2hLN+G1SU4a",
      "include_colab_link": true
    },
    "kernelspec": {
      "name": "python3",
      "display_name": "Python 3"
    },
    "language_info": {
      "name": "python"
    }
  },
  "cells": [
    {
      "cell_type": "markdown",
      "metadata": {
        "id": "view-in-github",
        "colab_type": "text"
      },
      "source": [
        "<a href=\"https://colab.research.google.com/github/Gani2324/DATA-PIPELINE-DEVELOPMENT/blob/main/Data_Pipeline.ipynb\" target=\"_parent\"><img src=\"https://colab.research.google.com/assets/colab-badge.svg\" alt=\"Open In Colab\"/></a>"
      ]
    },
    {
      "cell_type": "code",
      "execution_count": null,
      "metadata": {
        "id": "WyApn7dOq3aM"
      },
      "outputs": [],
      "source": [
        "import pandas as pd\n",
        "from sklearn.preprocessing import StandardScaler, OneHotEncoder\n",
        "from sklearn.model_selection import train_test_split\n",
        "from sklearn.compose import ColumnTransformer\n",
        "from sklearn.pipeline import Pipeline\n",
        "from sklearn.impute import SimpleImputer"
      ]
    },
    {
      "cell_type": "code",
      "source": [
        "# Step 1: Load Data\n",
        "def load_data(titanic_csv):\n",
        "    return pd.read_csv(\"titanic.csv\")"
      ],
      "metadata": {
        "id": "vU5kEBF1rG3C"
      },
      "execution_count": null,
      "outputs": []
    },
    {
      "cell_type": "code",
      "source": [
        "# Step 2: Preprocessing\n",
        "# Define preprocessing for numeric and categorical features\n",
        "numeric_features = ['Age', 'Fare']  # Numeric columns in the Titanic dataset\n",
        "numeric_transformer = Pipeline(steps=[\n",
        "    ('imputer', SimpleImputer(strategy='mean')),\n",
        "    ('scaler', StandardScaler())\n",
        "])\n",
        "\n",
        "# Categorical columns in the Titanic dataset\n",
        "categorical_features = ['Pclass', 'Sex', 'Embarked']\n",
        "categorical_transformer = Pipeline(steps=[\n",
        "    ('imputer', SimpleImputer(strategy='most_frequent')),\n",
        "    ('onehot', OneHotEncoder(handle_unknown='ignore'))\n",
        "])\n",
        "\n",
        "# Combine preprocessors in a column transformer\n",
        "preprocessor = ColumnTransformer(\n",
        "    transformers=[\n",
        "        ('num', numeric_transformer, numeric_features),\n",
        "        ('cat', categorical_transformer, categorical_features)\n",
        "    ]\n",
        ")\n"
      ],
      "metadata": {
        "id": "E-HOEgq5sYAd"
      },
      "execution_count": null,
      "outputs": []
    },
    {
      "cell_type": "code",
      "source": [
        "# Step 3: Define Pipeline\n",
        "def create_pipeline(model):\n",
        "    return Pipeline(steps=[\n",
        "        ('preprocessor', preprocessor),\n",
        "        ('model', model)\n",
        "    ])"
      ],
      "metadata": {
        "id": "-wji2rGUsosd"
      },
      "execution_count": null,
      "outputs": []
    },
    {
      "cell_type": "code",
      "source": [
        "# Step 4: Split Data\n",
        "def split_data(df, target_column):\n",
        "    X = df.drop(columns=[target_column])\n",
        "    y = df[target_column]\n",
        "    return train_test_split(X, y, test_size=0.2, random_state=42)"
      ],
      "metadata": {
        "id": "OAEfU_KpsuMQ"
      },
      "execution_count": null,
      "outputs": []
    },
    {
      "cell_type": "code",
      "source": [
        "# Step 5: Fit and Evaluate Pipeline\n",
        "def fit_and_evaluate(pipeline, X_train, X_test, y_train, y_test):\n",
        "    pipeline.fit(X_train, y_train)\n",
        "    score = pipeline.score(X_test, y_test)\n",
        "    print(f\"Model Score: {score}\")"
      ],
      "metadata": {
        "id": "Ehs22ZjnsxpE"
      },
      "execution_count": null,
      "outputs": []
    },
    {
      "cell_type": "code",
      "source": [
        "# Example Usage\n",
        "if __name__ == \"__main__\":\n",
        "    # Load dataset\n",
        "    data = load_data(\"titanic.csv\")\n",
        "\n",
        "    # Drop unnecessary columns for this example\n",
        "    data = data.drop(columns=['Name', 'Ticket', 'Cabin'])\n",
        "\n",
        "    # Split dataset\n",
        "    X_train, X_test, y_train, y_test = split_data(data, 'Survived')\n",
        "\n",
        "    # Example: Using a Random Forest model\n",
        "    from sklearn.ensemble import RandomForestClassifier\n",
        "    model = RandomForestClassifier(random_state=42)\n",
        "\n",
        "    # Create pipeline\n",
        "    pipeline = create_pipeline(model)\n",
        "\n",
        "    # Fit and evaluate\n",
        "    fit_and_evaluate(pipeline, X_train, X_test, y_train, y_test)\n"
      ],
      "metadata": {
        "colab": {
          "base_uri": "https://localhost:8080/"
        },
        "id": "73XpVrdls2iJ",
        "outputId": "a6867623-9bf3-46eb-cb65-b2ed3fb28ab1"
      },
      "execution_count": null,
      "outputs": [
        {
          "output_type": "stream",
          "name": "stdout",
          "text": [
            "Model Score: 0.7877094972067039\n"
          ]
        }
      ]
    }
  ]
}