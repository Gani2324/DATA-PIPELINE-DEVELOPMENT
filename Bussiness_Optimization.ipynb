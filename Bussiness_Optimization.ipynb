{
  "nbformat": 4,
  "nbformat_minor": 0,
  "metadata": {
    "colab": {
      "provenance": [],
      "authorship_tag": "ABX9TyNJKSfQ6rQ/9N5nHwJTccaY",
      "include_colab_link": true
    },
    "kernelspec": {
      "name": "python3",
      "display_name": "Python 3"
    },
    "language_info": {
      "name": "python"
    }
  },
  "cells": [
    {
      "cell_type": "markdown",
      "metadata": {
        "id": "view-in-github",
        "colab_type": "text"
      },
      "source": [
        "<a href=\"https://colab.research.google.com/github/Gani2324/DATA-PIPELINE-DEVELOPMENT/blob/main/Bussiness_Optimization.ipynb\" target=\"_parent\"><img src=\"https://colab.research.google.com/assets/colab-badge.svg\" alt=\"Open In Colab\"/></a>"
      ]
    },
    {
      "cell_type": "code",
      "source": [
        "!pip install pulp\n",
        "import pandas as pd\n",
        "from pulp import LpMaximize, LpProblem, LpVariable, lpSum"
      ],
      "metadata": {
        "colab": {
          "base_uri": "https://localhost:8080/"
        },
        "id": "C4ppf8565QnP",
        "outputId": "ad068ca2-97ac-4ead-e7fa-44841cf4af47"
      },
      "execution_count": null,
      "outputs": [
        {
          "output_type": "stream",
          "name": "stdout",
          "text": [
            "Collecting pulp\n",
            "  Downloading PuLP-2.9.0-py3-none-any.whl.metadata (5.4 kB)\n",
            "Downloading PuLP-2.9.0-py3-none-any.whl (17.7 MB)\n",
            "\u001b[2K   \u001b[90m━━━━━━━━━━━━━━━━━━━━━━━━━━━━━━━━━━━━━━━━\u001b[0m \u001b[32m17.7/17.7 MB\u001b[0m \u001b[31m77.6 MB/s\u001b[0m eta \u001b[36m0:00:00\u001b[0m\n",
            "\u001b[?25hInstalling collected packages: pulp\n",
            "Successfully installed pulp-2.9.0\n"
          ]
        }
      ]
    },
    {
      "cell_type": "code",
      "source": [
        "# Problem Statement:\n",
        "# A company produces two types of products: A and B. Each product requires limited resources (labor and material).\n",
        "# The goal is to maximize profit given the constraints.\n",
        "\n",
        "# Profit per unit\n",
        "profit_A = 40  # Profit for product A\n",
        "profit_B = 30  # Profit for product B\n"
      ],
      "metadata": {
        "id": "jEUf6x0c6Th8"
      },
      "execution_count": null,
      "outputs": []
    },
    {
      "cell_type": "code",
      "source": [
        "# Resource constraints\n",
        "labor_hours_A = 2  # Labor hours required for product A\n",
        "labor_hours_B = 1  # Labor hours required for product B\n",
        "material_A = 1  # Material required for product A\n",
        "material_B = 2  # Material required for product B\n"
      ],
      "metadata": {
        "id": "-vP542sJ6zBB"
      },
      "execution_count": null,
      "outputs": []
    },
    {
      "cell_type": "code",
      "source": [
        "# Available resources\n",
        "max_labor_hours = 100  # Total available labor hours\n",
        "max_material = 90  # Total available material\n"
      ],
      "metadata": {
        "id": "6gUd5Oy164t9"
      },
      "execution_count": null,
      "outputs": []
    },
    {
      "cell_type": "code",
      "source": [
        "# Defining the linear programming problem\n",
        "model = LpProblem(name=\"maximize-profit\", sense=LpMaximize)"
      ],
      "metadata": {
        "id": "Hy31PeJd8aEp"
      },
      "execution_count": null,
      "outputs": []
    },
    {
      "cell_type": "code",
      "source": [
        "# Decision variables\n",
        "x_A = LpVariable(name=\"x_A\", lowBound=0, cat='Continuous')  # Units of product A\n",
        "x_B = LpVariable(name=\"x_B\", lowBound=0, cat='Continuous')  # Units of product B"
      ],
      "metadata": {
        "id": "0kCnV3Q68fd6"
      },
      "execution_count": null,
      "outputs": []
    },
    {
      "cell_type": "code",
      "source": [
        "# Objective function\n",
        "model += (profit_A * x_A + profit_B * x_B, \"Total Profit\")"
      ],
      "metadata": {
        "id": "BICu1_9W8mAA"
      },
      "execution_count": null,
      "outputs": []
    },
    {
      "cell_type": "code",
      "source": [
        "# Constraints\n",
        "model += (labor_hours_A * x_A + labor_hours_B * x_B <= max_labor_hours, \"Labor Hours Constraint\")\n",
        "model += (material_A * x_A + material_B * x_B <= max_material, \"Material Constraint\")"
      ],
      "metadata": {
        "id": "vZv_w0Uz8pOR"
      },
      "execution_count": null,
      "outputs": []
    },
    {
      "cell_type": "code",
      "source": [
        "# Solve the problem\n",
        "model.solve()"
      ],
      "metadata": {
        "colab": {
          "base_uri": "https://localhost:8080/"
        },
        "id": "V43yC5ph8ssf",
        "outputId": "7aa5fb31-fa21-4887-de86-3a903a83fb3d"
      },
      "execution_count": null,
      "outputs": [
        {
          "output_type": "execute_result",
          "data": {
            "text/plain": [
              "1"
            ]
          },
          "metadata": {},
          "execution_count": 11
        }
      ]
    },
    {
      "cell_type": "code",
      "source": [
        "# Extract results\n",
        "status = model.status\n",
        "optimal_A = x_A.value()\n",
        "optimal_B = x_B.value()\n",
        "total_profit = model.objective.value()"
      ],
      "metadata": {
        "id": "7ETcitqV8xOi"
      },
      "execution_count": null,
      "outputs": []
    },
    {
      "cell_type": "code",
      "source": [
        "# Display results\n",
        "results = {\n",
        "    \"Status\": [model.status],\n",
        "    \"Optimal Units of Product A\": [optimal_A],\n",
        "    \"Optimal Units of Product B\": [optimal_B],\n",
        "    \"Total Profit\": [total_profit],\n",
        "}\n",
        "results_df = pd.DataFrame(results)"
      ],
      "metadata": {
        "id": "KWPEnNxR80N0"
      },
      "execution_count": null,
      "outputs": []
    },
    {
      "cell_type": "code",
      "source": [
        "# Insights\n",
        "print(\"Business Optimization Results:\")\n",
        "print(results_df)"
      ],
      "metadata": {
        "colab": {
          "base_uri": "https://localhost:8080/"
        },
        "id": "RSYMMkm084Os",
        "outputId": "a5353b03-8423-4e6d-cd58-f377dac43a62"
      },
      "execution_count": null,
      "outputs": [
        {
          "output_type": "stream",
          "name": "stdout",
          "text": [
            "Business Optimization Results:\n",
            "   Status  Optimal Units of Product A  Optimal Units of Product B  \\\n",
            "0       1                   36.666667                   26.666667   \n",
            "\n",
            "   Total Profit  \n",
            "0    2266.66669  \n"
          ]
        }
      ]
    },
    {
      "cell_type": "code",
      "source": [
        "# Display insights\n",
        "def generate_insights():\n",
        "    print(\"\\nInsights:\")\n",
        "    print(\"1. Optimal Production Plan:\")\n",
        "    print(f\"   Produce {optimal_A} units of Product A.\")\n",
        "    print(f\"   Produce {optimal_B} units of Product B.\")\n",
        "    print(f\"2. Maximum Achievable Profit: ${total_profit}.\")\n",
        "    print(\"3. All constraints are respected:\")\n",
        "    print(\"   - Total labor hours used: {:.2f} (<= 100).\".format(labor_hours_A * optimal_A + labor_hours_B * optimal_B))\n",
        "    print(\"   - Total material used: {:.2f} (<= 90).\".format(material_A * optimal_A + material_B * optimal_B))\n",
        "\n",
        "generate_insights()"
      ],
      "metadata": {
        "colab": {
          "base_uri": "https://localhost:8080/"
        },
        "id": "f5FBz22487yI",
        "outputId": "80fc0b30-fb7c-4dcd-83c5-6ccf2d088f6d"
      },
      "execution_count": null,
      "outputs": [
        {
          "output_type": "stream",
          "name": "stdout",
          "text": [
            "\n",
            "Insights:\n",
            "1. Optimal Production Plan:\n",
            "   Produce 36.666667 units of Product A.\n",
            "   Produce 26.666667 units of Product B.\n",
            "2. Maximum Achievable Profit: $2266.66669.\n",
            "3. All constraints are respected:\n",
            "   - Total labor hours used: 100.00 (<= 100).\n",
            "   - Total material used: 90.00 (<= 90).\n"
          ]
        }
      ]
    }
  ]
}